{
 "cells": [
  {
   "cell_type": "markdown",
   "id": "cce35221",
   "metadata": {},
   "source": [
    "#  Proyecto: Asistente Financiero Agropecuario con IA\n",
    "Este proyecto es una prueba de concepto (POC) que utiliza **OpenAI GPT-4** para actuar como un asesor financiero especializado en el sector agropecuario argentino. A través de *prompt engineering*, el sistema puede recomendar líneas de crédito, responder consultas personalizadas y adaptarse al perfil del productor.\n",
    "\n",
    "##  Contexto\n",
    "En Argentina, pequeños y medianos productores rurales enfrentan dificultades para acceder al financiamiento. Este asistente conversacional busca reducir esas barreras informativas usando Inteligencia Artificial.\n",
    "\n",
    "##  Requisitos\n",
    "- Python 3.8+\n",
    "- Paquetes: `openai`, `os`\n",
    "- Variable de entorno: `OPENAI_API_KEY` definida previamente con tu clave de API\n",
    "\n",
    "##  Autor\n",
    "Desarrollado como parte de una POC para prácticas de Fast Prompting en Data Analytics."
   ]
  },
  {
   "cell_type": "markdown",
   "id": "c2876a81-5edb-4a02-a132-574a945366f7",
   "metadata": {},
   "source": [
    "Configuración de la API"
   ]
  },
  {
   "cell_type": "code",
   "execution_count": 20,
   "id": "de88bef9-3570-43a2-92bc-a68e891086a7",
   "metadata": {},
   "outputs": [],
   "source": [
    "# Importación de librerías y configuración segura de la API\n",
    "import os\n",
    "import openai\n",
    "openai.api_key = os.getenv(\"OPENAI_API_KEY\")\n"
   ]
  },
  {
   "cell_type": "raw",
   "id": "e08dfab8-c73e-4f0a-b715-41a0742c02f7",
   "metadata": {},
   "source": [
    "Variables para contener la información"
   ]
  },
  {
   "cell_type": "code",
   "execution_count": 21,
   "id": "6329f159-5ede-4a3f-bc39-c8866a2c1c11",
   "metadata": {},
   "outputs": [],
   "source": [
    "# Definición de prompts\n",
    "# El mensaje del sistema configura el comportamiento del modelo.\n",
    "# El mensaje del usuario representa una consulta típica de un productor agropecuario.\n",
    "system_prompt = \"Actúa como un asesor financiero especializado en el sector agropecuario argentino.\"\n",
    "user_prompt = \"Soy un pequeño productor de Santa Fe que cultiva soja. ¿Qué líneas de crédito me recomiendas y qué requisitos tengo que cumplir?\"\n"
   ]
  },
  {
   "cell_type": "code",
   "execution_count": 22,
   "id": "d88c95e6-7f4b-420a-a0a1-cd0a4f09278f",
   "metadata": {},
   "outputs": [],
   "source": [
    "# ⚙️ Función para generar respuestas desde la API de OpenAI\n",
    "def generar_respuesta(prompt_usuario, modelo=\"gpt-4\"):\n",
    "    try:\n",
    "        respuesta = openai.ChatCompletion.create(\n",
    "            model=modelo,\n",
    "            messages=[\n",
    "                {\"role\": \"system\", \"content\": system_prompt},\n",
    "                {\"role\": \"user\", \"content\": prompt_usuario}\n",
    "            ],\n",
    "            temperature=0.7\n",
    "        )\n",
    "        return respuesta.choices[0].message[\"content\"]\n",
    "    except Exception as e:\n",
    "        return f\"Error al generar respuesta: {e}\"\n"
   ]
  },
  {
   "cell_type": "markdown",
   "id": "3c61d30e-064c-4a25-a926-7523260f5125",
   "metadata": {},
   "source": [
    "def generar_respuesta(prompt_usuario, modelo=\"gpt-4\"):\n",
    "    try:\n",
    "        respuesta = openai.ChatCompletion.create(\n",
    "            model=modelo,\n",
    "            messages=[\n",
    "                {\"role\": \"system\", \"content\": system_prompt},\n",
    "                {\"role\": \"user\", \"content\": prompt_usuario}\n",
    "            ],\n",
    "            temperature=0.7\n",
    "        )\n",
    "        return respuesta.choices[0].message[\"content\"]\n",
    "    except Exception as e:\n",
    "        return f\"Error al generar respuesta: {e}\"\n"
   ]
  },
  {
   "cell_type": "code",
   "execution_count": null,
   "id": "c6d3a922-640a-4770-ae26-cafb95817adf",
   "metadata": {},
   "outputs": [],
   "source": []
  }
 ],
 "metadata": {
  "kernelspec": {
   "display_name": "Python 3 (ipykernel)",
   "language": "python",
   "name": "python3"
  },
  "language_info": {
   "codemirror_mode": {
    "name": "ipython",
    "version": 3
   },
   "file_extension": ".py",
   "mimetype": "text/x-python",
   "name": "python",
   "nbconvert_exporter": "python",
   "pygments_lexer": "ipython3",
   "version": "3.10.18"
  }
 },
 "nbformat": 4,
 "nbformat_minor": 5
}
